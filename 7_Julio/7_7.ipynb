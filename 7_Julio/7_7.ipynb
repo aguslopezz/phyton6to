{
  "cells": [
    {
      "cell_type": "code",
      "execution_count": null,
      "metadata": {
        "colab": {
          "base_uri": "https://localhost:8080/"
        },
        "id": "sEe6e7RaJsSw",
        "outputId": "fa35eedf-773c-4f4d-d354-6a4d93bf6366"
      },
      "outputs": [],
      "source": [
        "import pandas as pd\n",
        "\n",
        "barrios = pd.read_csv(\"barrios.csv\",sep=\",\",engine=\"python\")\n",
        "casos = pd.read_csv(\"casos.csv\",sep=\",\",engine=\"python\")\n",
        "comunas = pd.read_csv(\"comunas.csv\",sep=\",\",engine=\"python\")\n",
        "\n",
        "\n",
        "\n",
        "df1 = barrios[[\"barrio\",\"comuna\",\"perimetro\"]]\n",
        "\n",
        "                                #---------1---------#\n",
        "df14 = df1[(df1.comuna == 3)]\n",
        "\n",
        "                                #---------2---------#\n",
        "df2 = df1[(df1.comuna > 4) & (df1.comuna < 10)]\n",
        "\n",
        "                                #---------3---------#\n",
        "index3 = barrios.barrio[barrios.index == 5].item()\n",
        "df3 = comunas[[\"PERIMETRO\",\"AREA\"]][comunas.BARRIOS.str.contains(index3)]\n",
        "\n",
        "                                #---------4---------#\n",
        "index4 = barrios.barrio[barrios.barrio.str.startswith(\"V\")].tolist()\n",
        "df4 = comunas[\"ID\"][comunas.BARRIOS.str.contains('|'.join(index4))]\n",
        "\n",
        "                                #---------5---------#\n",
        "index5 = barrios.barrio[barrios.barrio.str.contains(\"a\")].tolist()\n",
        "df5 = comunas[\"ID\"][comunas.BARRIOS.str.contains('|'.join(index5))]\n",
        "\n",
        "                                #---------6---------#\n",
        "index6 = casos.barrio[casos.index == 15].item()\n",
        "df6 = comunas[\"PERIMETRO\"][comunas.BARRIOS.str.contains(index6)]\n",
        "\n",
        "                                #---------7---------#\n",
        "index7 = casos.barrio[casos.index == 7].item()\n",
        "df7 = barrios[\"area\"][barrios.barrio == index7]\n",
        "\n",
        "                                #---------8---------#\n",
        "df8 = pd.merge(barrios,casos,on=\"barrio\",how=\"inner\")\n",
        "df8 = df8[[\"barrio\",\"comuna_x\"]][(df8.numero_de_caso > 6000000) & (df8.numero_de_caso < 7000000)]\n",
        "\n",
        "                                #---------9---------#\n",
        "index_9 = barrios.barrio[barrios.index == 3].item()\n",
        "df9 = pd.merge(barrios,casos,on=\"barrio\",how=\"inner\")\n",
        "df9 = df9[[\"genero\",\"edad\"]][df9.barrio == index_9]\n",
        "\n",
        "                                #---------10---------#\n",
        "df10 = pd.merge(barrios,casos,on=\"barrio\",how=\"inner\")\n",
        "df10 = df10[[\"barrio\"]][df10.tipo_contagio == \"En Investigacion\"]\n",
        "\n",
        "                                #---------11---------#\n",
        "df11 = pd.merge(barrios,casos,on=\"barrio\",how=\"inner\")\n",
        "df11 = df11[[\"barrio\"]][df11.edad < 18]\n",
        "\n",
        "                                #---------12---------#\n",
        "index12 = barrios[\"barrio\"][barrios.index < 5].tolist()\n",
        "df12 = casos[[\"numero_de_caso\",\"genero\",\"edad\"]][casos.barrio.isin(index12)]\n",
        "\n",
        "                                #---------13---------#\n",
        "index13 = comunas[\"COMUNAS\"][comunas.COMUNAS != 13].tolist()\n",
        "df13 = casos[[\"numero_de_caso\",\"genero\",\"edad\"]][casos.barrio.isin(index13)]\n",
        "\n",
        "\n"
      ]
    }
  ],
  "metadata": {
    "colab": {
      "name": "7-7.ipynb",
      "provenance": []
    },
    "kernelspec": {
      "display_name": "Python 3",
      "name": "python3"
    },
    "language_info": {
      "name": "python"
    }
  },
  "nbformat": 4,
  "nbformat_minor": 0
}
