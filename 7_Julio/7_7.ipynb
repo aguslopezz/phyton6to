{
  "nbformat": 4,
  "nbformat_minor": 0,
  "metadata": {
    "colab": {
      "name": "7-7.ipynb",
      "provenance": []
    },
    "kernelspec": {
      "name": "python3",
      "display_name": "Python 3"
    },
    "language_info": {
      "name": "python"
    }
  },
  "cells": [
    {
      "cell_type": "code",
      "execution_count": 85,
      "metadata": {
        "colab": {
          "base_uri": "https://localhost:8080/"
        },
        "id": "sEe6e7RaJsSw",
        "outputId": "fa35eedf-773c-4f4d-d354-6a4d93bf6366"
      },
      "outputs": [
        {
          "output_type": "stream",
          "name": "stdout",
          "text": [
            "[2.0, 6.0, 10.0, 11.0, 12.0, 14.0, 15.0, 4.0, 5.0, 7.0, 3.0, 9.0, 8.0, 1.0]\n"
          ]
        }
      ],
      "source": [
        "import pandas as pd\n",
        "\n",
        "barrios = pd.read_csv(\"barrios.csv\",sep=\",\",engine=\"python\")\n",
        "casos = pd.read_csv(\"casos.csv\",sep=\",\",engine=\"python\")\n",
        "comunas = pd.read_csv(\"comunas.csv\",sep=\",\",engine=\"python\")\n",
        "\n",
        "df1 = barrios[[\"barrio\",\"comuna\",\"perimetro\"]]\n",
        "\n",
        "df2 = df1[(df1.comuna > 4) & (df1.comuna < 10)]\n",
        "\n",
        "indice3 = barrios.barrio[barrios.index == 5].item()\n",
        "df3 = comunas[[\"PERIMETRO\",\"AREA\"]][comunas.BARRIOS.str.contains(indice3)]\n",
        "\n",
        "indice4 = barrios.barrio[barrios.barrio.str.startswith(\"V\")].tolist()\n",
        "df4 = comunas[\"ID\"][comunas.BARRIOS.str.contains('|'.join(indice4))]\n",
        "\n",
        "indice5 = barrios.barrio[barrios.barrio.str.contains(\"a\")].tolist()\n",
        "df5 = comunas[\"ID\"][comunas.BARRIOS.str.contains('|'.join(indice5))]\n",
        "\n",
        "indice6 = casos.barrio[casos.index == 15].item()\n",
        "df6 = comunas[\"PERIMETRO\"][comunas.BARRIOS.str.contains(indice6)]\n",
        "\n",
        "indice7 = casos.barrio[casos.index == 7].item()\n",
        "df7 = barrios[\"area\"][barrios.barrio == indice7]\n",
        "\n",
        "df8 = pd.merge(barrios,casos,on=\"barrio\",how=\"inner\")\n",
        "df8 = df8[[\"barrio\",\"comuna_x\"]][(df8.numero_de_caso > 6000000) & (df8.numero_de_caso < 7000000)]\n",
        "\n",
        "index_9 = barrios.barrio[barrios.index == 3].item()\n",
        "df9 = pd.merge(barrios,casos,on=\"barrio\",how=\"inner\")\n",
        "df9 = df9[[\"genero\",\"edad\"]][df9.barrio == index_9]\n",
        "\n",
        "df10 = pd.merge(barrios,casos,on=\"barrio\",how=\"inner\")\n",
        "df10 = df10[[\"barrio\"]][df10.tipo_contagio == \"En Investigacion\"]\n",
        "\n",
        "df11 = pd.merge(barrios,casos,on=\"barrio\",how=\"inner\")\n",
        "df11 = df11[[\"barrio\"]][df11.edad < 18]\n",
        "\n",
        "indice12 = barrios[\"barrio\"][barrios.index < 5].tolist()\n",
        "df12 = casos[[\"numero_de_caso\",\"genero\",\"edad\"]][casos.barrio.isin(indice12)]\n",
        "\n",
        "indice13 = comunas[\"COMUNAS\"][comunas.COMUNAS != 13].tolist()\n",
        "df13 = casos[[\"numero_de_caso\",\"genero\",\"edad\"]][casos.barrio.isin(indice13)]\n",
        "\n",
        "\n"
      ]
    }
  ]
}